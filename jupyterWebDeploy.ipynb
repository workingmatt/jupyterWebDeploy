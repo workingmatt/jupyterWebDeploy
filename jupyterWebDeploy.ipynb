{
 "cells": [
  {
   "cell_type": "code",
   "execution_count": 1,
   "metadata": {},
   "outputs": [],
   "source": [
    "# Jupyter Web Deploy\n",
    "\n",
    "## An experiment to publish a Jupyter Notebook via Heroku to the web.\n",
    "## This should work with any Jupyter Notebook"
   ]
  },
  {
   "cell_type": "code",
   "execution_count": 2,
   "metadata": {},
   "outputs": [],
   "source": [
    "import numpy as np\n",
    "import matplotlib.pyplot as plt\n",
    "from ipywidgets import interactive\n",
    "%matplotlib inline\n"
   ]
  },
  {
   "cell_type": "code",
   "execution_count": 3,
   "metadata": {
    "scrolled": true
   },
   "outputs": [
    {
     "data": {
      "application/vnd.jupyter.widget-view+json": {
       "model_id": "4d46ec77c3c34edd8789aab278781207",
       "version_major": 2,
       "version_minor": 0
      },
      "text/plain": [
       "interactive(children=(FloatSlider(value=-1.0, description='a', max=0.0, min=-1.0), FloatSlider(value=0.55, des…"
      ]
     },
     "metadata": {},
     "output_type": "display_data"
    }
   ],
   "source": [
    "def plot_func(a, f):\n",
    "    plt.figure(2)\n",
    "    x = np.linspace(0, 2*np.pi, num=1000)\n",
    "    y = a*np.sin(1/f*x)\n",
    "    plt.plot(x,y)\n",
    "    plt.ylim(-1.1, 1.1)\n",
    "    plt.title('a sin(f)')\n",
    "    plt.show()\n",
    "    \n",
    "interactive_plot = interactive(plot_func, a=(-1,0,0.1),f=(0.1, 1))\n",
    "output = interactive_plot.children[-1]\n",
    "output.layout.height = '300px'\n",
    "interactive_plot"
   ]
  },
  {
   "cell_type": "code",
   "execution_count": 4,
   "metadata": {
    "scrolled": true
   },
   "outputs": [
    {
     "data": {
      "text/html": [
       "\n",
       "<meta charset='utf-8'>\n",
       "<html>\n",
       "<head>\n",
       "    <meta charset='utf-8'>\n",
       "    <title>Test title</title>\n",
       "    <script type='text/javascript' src=\"https://d3js.org/d3.v3.min.js\"></script>\n",
       "</head>\n",
       "<body>\n",
       "    Hi Matt\n",
       "    <div id=\"viz\">\n",
       "        Goodbye matthew\n",
       "        <script type=\"text/javascript\" src=\"./libs/d3.js\">\n",
       "            placeCircle();\n",
       "        </script>\n",
       "    </div>\n",
       "</body>\n",
       "</html>\n"
      ],
      "text/plain": [
       "<IPython.core.display.HTML object>"
      ]
     },
     "metadata": {},
     "output_type": "display_data"
    }
   ],
   "source": [
    "%%html\n",
    "\n",
    "<meta charset='utf-8'>\n",
    "<html>\n",
    "<head>\n",
    "    <meta charset='utf-8'>\n",
    "    <title>Test title</title>\n",
    "    <script type='text/javascript' src=\"https://d3js.org/d3.v3.min.js\"></script>\n",
    "</head>\n",
    "<body>\n",
    "    Hi Matt\n",
    "    <div id=\"viz\">\n",
    "        Goodbye matthew\n",
    "        <script type=\"text/javascript\" src=\"./libs/d3.js\">\n",
    "            placeCircle();\n",
    "        </script>\n",
    "    </div>\n",
    "</body>\n",
    "</html>"
   ]
  },
  {
   "cell_type": "code",
   "execution_count": 5,
   "metadata": {},
   "outputs": [
    {
     "data": {
      "application/javascript": [
       "require.config({paths: {d3: 'https://d3js.org/d3.v5.min'}});\n"
      ],
      "text/plain": [
       "<IPython.core.display.Javascript object>"
      ]
     },
     "metadata": {},
     "output_type": "display_data"
    }
   ],
   "source": [
    "%%javascript\n",
    "require.config({paths: {d3: 'https://d3js.org/d3.v5.min'}});"
   ]
  },
  {
   "cell_type": "code",
   "execution_count": 6,
   "metadata": {},
   "outputs": [
    {
     "data": {
      "application/javascript": [
       "require(['d3'], function(d3){\n",
       "    var nodeData =  {\"name\": \"TOPICS\", \"children\": [\n",
       "                        {\"name\": \"Topic A\", \"children\": [\n",
       "                            {\"name\": \"Sub A1\", \"size\": 4}, \n",
       "                            {\"name\": \"Sub A2\", \"size\": 4}\n",
       "                            ]\n",
       "                        }, \n",
       "                        {\"name\": \"Topic B\",\"children\": [\n",
       "                            {\"name\": \"Sub B1\", \"size\": 3}, \n",
       "                            {\"name\": \"Sub B2\", \"size\": 3}, \n",
       "                            {\"name\": \"Sub B3\", \"size\": 3},\n",
       "                            {\"name\": \"Sub B4\", \"children\": [\n",
       "                                {\"name\": \"B4.1\", \"size\": 2},\n",
       "                                {\"name\": \"B4.2\", \"size\": 3},\n",
       "                                {\"name\": \"B4.3\", \"size\": 104},\n",
       "                                {\"name\": \"B4.4\", \"size\": 6},\n",
       "                                ]\n",
       "                            }\n",
       "                            ]\n",
       "                        }, \n",
       "                        {\"name\": \"Topic C\",\"children\": [\n",
       "                            {\"name\": \"Sub C1\", \"size\": 4}, \n",
       "                            {\"name\": \"Sub C2\", \"size\": 4}\n",
       "                            ]\n",
       "                        }\n",
       "                        ]\n",
       "                    };\n",
       "    console.log(nodeData);\n",
       "    \n",
       "var width = 600;\n",
       "var height = 600;\n",
       "var radius = Math.min(width, height) / 2;\n",
       "var color = d3.scaleOrdinal(d3.schemePaired); //schemeCategory10, schemePastel1, schemePaired\n",
       "\n",
       "var g = d3.select(element.get(0))\n",
       "        .append('svg')\n",
       "            .attr(\"width\", width)\n",
       "            .attr(\"height\", height)\n",
       "        .append(\"g\")\n",
       "            .attr(\"transform\", \"translate(\" + width / 2 +\",\" + height / 2 +\")\");\n",
       "\n",
       "var partition = d3.partition()\n",
       "        .size([2*Math.PI, radius]);\n",
       "\n",
       "// d3.json(\"data.json\", function(error, nodeData){\n",
       "\n",
       "var root = d3.hierarchy(nodeData)\n",
       "    .each(d => d.current = d)\n",
       "    .sum(function(d){return d.size;});\n",
       "console.log(\"root\");\n",
       "console.log(root);\n",
       "\n",
       "partition(root);\n",
       "\n",
       "var arc = d3.arc()\n",
       "    .startAngle(function(d){return d.x0})\n",
       "    .endAngle(function(d){return d.x1})\n",
       "    .innerRadius(function(d){return d.y0})\n",
       "    .outerRadius(function(d){return d.y1});\n",
       "\n",
       "g.selectAll(\"path\")\n",
       "    .data(root.descendants())\n",
       "    .enter().append(\"path\")\n",
       "        .attr(\"display\", function(d) {\n",
       "            return d.depth ? null : \"none\";\n",
       "        })\n",
       "        .attr(\"d\", arc)\n",
       "        .style(\"stroke\", \"#fff\")\n",
       "        .style(\"fill\", function(d){return color((d.children ? d : d.parent).data.name);})\n",
       "        .on('click', handleClick);\n",
       "\n",
       "const label = g.append('g')\n",
       "                .attr('text-anchor','middle')\n",
       "            .selectAll('text')\n",
       "            .data(root.descendants())\n",
       "            .join('text')\n",
       "                .attr(\"dy\", \"0.35em\")\n",
       "                .attr(\"fill-opacity\", d => +labelVisible(d))\n",
       "                .attr(\"stroke-opacity\", d => +labelVisible(d))\n",
       "                .attr(\"transform\", d => labelTransform(d))\n",
       "                .text(d => d.data.name);\n",
       "\n",
       "\n",
       "        // }); //d3.json terminator\n",
       "function labelVisible(d) {\n",
       "    let ret = d.y1/radius <= 3 && d.y0 > 0 && (d.y1 - d.y0) * (d.x1 - d.x0) > 0.03;\n",
       "    //console.log(\"y1<=3:\"+d.y1/radius+\" y0>=1:\"+d.y0+\" visible:\"+ret);\n",
       "    return ret;\n",
       "}\n",
       "\n",
       "function handleClick(d,i){\n",
       "    console.log(\"clicked \"+i+\" :\"+d.data.name);\n",
       "    alert(\"Clicked: \"+d.data.name);\n",
       "}\n",
       "\n",
       "function labelTransform(d) {\n",
       "    const x = (d.x0 + d.x1) / 2 * 180 / Math.PI;\n",
       "    const y = (d.y0 + d.y1) / 2;// * radius;\n",
       "\n",
       "    // console.log(\"In label transform. Radius:\"+radius+\" X:\"+x+\" | Y:\"+y);\n",
       "    return `rotate(${x - 90}) translate(${y},0) rotate(${x < 180 ? 0 : 180})`;\n",
       "    }\n",
       "\n",
       "    \n",
       "});\n"
      ],
      "text/plain": [
       "<IPython.core.display.Javascript object>"
      ]
     },
     "metadata": {},
     "output_type": "display_data"
    }
   ],
   "source": [
    "%%javascript\n",
    "require(['d3'], function(d3){\n",
    "    var nodeData =  {\"name\": \"TOPICS\", \"children\": [\n",
    "                        {\"name\": \"Topic A\", \"children\": [\n",
    "                            {\"name\": \"Sub A1\", \"size\": 4}, \n",
    "                            {\"name\": \"Sub A2\", \"size\": 4}\n",
    "                            ]\n",
    "                        }, \n",
    "                        {\"name\": \"Topic B\",\"children\": [\n",
    "                            {\"name\": \"Sub B1\", \"size\": 3}, \n",
    "                            {\"name\": \"Sub B2\", \"size\": 3}, \n",
    "                            {\"name\": \"Sub B3\", \"size\": 3},\n",
    "                            {\"name\": \"Sub B4\", \"children\": [\n",
    "                                {\"name\": \"B4.1\", \"size\": 2},\n",
    "                                {\"name\": \"B4.2\", \"size\": 3},\n",
    "                                {\"name\": \"B4.3\", \"size\": 104},\n",
    "                                {\"name\": \"B4.4\", \"size\": 6},\n",
    "                                ]\n",
    "                            }\n",
    "                            ]\n",
    "                        }, \n",
    "                        {\"name\": \"Topic C\",\"children\": [\n",
    "                            {\"name\": \"Sub C1\", \"size\": 4}, \n",
    "                            {\"name\": \"Sub C2\", \"size\": 4}\n",
    "                            ]\n",
    "                        }\n",
    "                        ]\n",
    "                    };\n",
    "    console.log(nodeData);\n",
    "    \n",
    "var width = 600;\n",
    "var height = 600;\n",
    "var radius = Math.min(width, height) / 2;\n",
    "var color = d3.scaleOrdinal(d3.schemePaired); //schemeCategory10, schemePastel1, schemePaired\n",
    "\n",
    "var g = d3.select(element.get(0))\n",
    "        .append('svg')\n",
    "            .attr(\"width\", width)\n",
    "            .attr(\"height\", height)\n",
    "        .append(\"g\")\n",
    "            .attr(\"transform\", \"translate(\" + width / 2 +\",\" + height / 2 +\")\");\n",
    "\n",
    "var partition = d3.partition()\n",
    "        .size([2*Math.PI, radius]);\n",
    "\n",
    "// d3.json(\"data.json\", function(error, nodeData){\n",
    "\n",
    "var root = d3.hierarchy(nodeData)\n",
    "    .each(d => d.current = d)\n",
    "    .sum(function(d){return d.size;});\n",
    "console.log(\"root\");\n",
    "console.log(root);\n",
    "\n",
    "partition(root);\n",
    "\n",
    "var arc = d3.arc()\n",
    "    .startAngle(function(d){return d.x0})\n",
    "    .endAngle(function(d){return d.x1})\n",
    "    .innerRadius(function(d){return d.y0})\n",
    "    .outerRadius(function(d){return d.y1});\n",
    "\n",
    "g.selectAll(\"path\")\n",
    "    .data(root.descendants())\n",
    "    .enter().append(\"path\")\n",
    "        .attr(\"display\", function(d) {\n",
    "            return d.depth ? null : \"none\";\n",
    "        })\n",
    "        .attr(\"d\", arc)\n",
    "        .style(\"stroke\", \"#fff\")\n",
    "        .style(\"fill\", function(d){return color((d.children ? d : d.parent).data.name);})\n",
    "        .on('click', handleClick);\n",
    "\n",
    "const label = g.append('g')\n",
    "                .attr('text-anchor','middle')\n",
    "            .selectAll('text')\n",
    "            .data(root.descendants())\n",
    "            .join('text')\n",
    "                .attr(\"dy\", \"0.35em\")\n",
    "                .attr(\"fill-opacity\", d => +labelVisible(d))\n",
    "                .attr(\"stroke-opacity\", d => +labelVisible(d))\n",
    "                .attr(\"transform\", d => labelTransform(d))\n",
    "                .text(d => d.data.name);\n",
    "\n",
    "\n",
    "        // }); //d3.json terminator\n",
    "function labelVisible(d) {\n",
    "    let ret = d.y1/radius <= 3 && d.y0 > 0 && (d.y1 - d.y0) * (d.x1 - d.x0) > 0.03;\n",
    "    //console.log(\"y1<=3:\"+d.y1/radius+\" y0>=1:\"+d.y0+\" visible:\"+ret);\n",
    "    return ret;\n",
    "}\n",
    "\n",
    "function handleClick(d,i){\n",
    "    console.log(\"clicked \"+i+\" :\"+d.data.name);\n",
    "    alert(\"Clicked: \"+d.data.name);\n",
    "}\n",
    "\n",
    "function labelTransform(d) {\n",
    "    const x = (d.x0 + d.x1) / 2 * 180 / Math.PI;\n",
    "    const y = (d.y0 + d.y1) / 2;// * radius;\n",
    "\n",
    "    // console.log(\"In label transform. Radius:\"+radius+\" X:\"+x+\" | Y:\"+y);\n",
    "    return `rotate(${x - 90}) translate(${y},0) rotate(${x < 180 ? 0 : 180})`;\n",
    "    }\n",
    "\n",
    "    \n",
    "});"
   ]
  },
  {
   "cell_type": "code",
   "execution_count": null,
   "metadata": {},
   "outputs": [],
   "source": []
  }
 ],
 "metadata": {
  "finalized": {
   "timestamp": 1595870410640,
   "trusted": true
  },
  "kernelspec": {
   "display_name": "Python 3",
   "language": "python",
   "name": "python3"
  },
  "language_info": {
   "codemirror_mode": {
    "name": "ipython",
    "version": 3
   },
   "file_extension": ".py",
   "mimetype": "text/x-python",
   "name": "python",
   "nbconvert_exporter": "python",
   "pygments_lexer": "ipython3",
   "version": "3.7.3"
  }
 },
 "nbformat": 4,
 "nbformat_minor": 4
}
